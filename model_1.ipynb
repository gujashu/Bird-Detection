{
 "cells": [
  {
   "attachments": {},
   "cell_type": "markdown",
   "metadata": {},
   "source": [
    "Prepairing Dataset for Model"
   ]
  },
  {
   "cell_type": "code",
   "execution_count": null,
   "metadata": {},
   "outputs": [],
   "source": [
    "BATCH_SIZE = 64\n",
    "def get_training_dataset(dataset):\n",
    "    dataset = dataset.map(read_image_tfds, num_parallel_calls=16)\n",
    "    dataset = dataset.shuffle(512, reshuffle_each_iteration=True)\n",
    "    dataset = dataset.repeat()\n",
    "    dataset = dataset.batch(BATCH_SIZE)\n",
    "    dataset = dataset.prefetch(-1)\n",
    "    \n",
    "    return dataset\n",
    "def get_validation_dataset(dataset):\n",
    "    dataset = dataset.map(read_image_tfds, num_parallel_calls = 16)\n",
    "    dataset = dataset.shuffle(512, reshuffle_each_iteration=True)\n",
    "    dataset = dataset.repeat()\n",
    "    dataset = dataset.batch(BATCH_SIZE)\n",
    "    dataset = dataset.prefetch(-1)\n",
    "    \n",
    "    return dataset"
   ]
  },
  {
   "attachments": {},
   "cell_type": "markdown",
   "metadata": {},
   "source": [
    "Defining the Network Used"
   ]
  },
  {
   "attachments": {},
   "cell_type": "markdown",
   "metadata": {},
   "source": [
    "Here we are using MobileNetV2 Network"
   ]
  },
  {
   "cell_type": "code",
   "execution_count": null,
   "metadata": {},
   "outputs": [],
   "source": [
    "def feature_extractor(inputs):\n",
    "    mobilenet_model = tf.keras.applications.MobileNetV2(\n",
    "        input_shape=(224,224,3),\n",
    "        alpha=1.0,\n",
    "        include_top= False,\n",
    "        weights= None\n",
    "    )\n",
    "    feature_extractor = mobilenet_model(inputs)\n",
    "    \n",
    "    return feature_extractor"
   ]
  },
  {
   "cell_type": "code",
   "execution_count": null,
   "metadata": {},
   "outputs": [],
   "source": [
    "def dense_layers(inputs):\n",
    "    \n",
    "    x = tf.keras.layers.GlobalAveragePooling2D()(inputs)\n",
    "    x = tf.keras.layers.Flatten()(x)\n",
    "    x = tf.keras.layers.Dense(1024, activation='relu')(x)\n",
    "    x = tf.keras.layers.Dense(512, activation='relu')(x)\n",
    "    \n",
    "    return x"
   ]
  },
  {
   "cell_type": "code",
   "execution_count": null,
   "metadata": {},
   "outputs": [],
   "source": [
    "def bounding_box_regression(x):\n",
    "    bounding_box_regression_output = tf.keras.layers.Dense(4, activation='linear', name='bounding_box')(x)\n",
    "    return bounding_box_regression_output"
   ]
  },
  {
   "cell_type": "code",
   "execution_count": null,
   "metadata": {},
   "outputs": [],
   "source": [
    "def final_model(inputs):\n",
    "    feature_cnn = feature_extractor(inputs)\n",
    "    last_dense_layer = dense_layers(feature_cnn)\n",
    "    bounding_box_output = bounding_box_regression(last_dense_layer)\n",
    "    model = tf.keras.Model(inputs = inputs, outputs = bounding_box_output)\n",
    "    \n",
    "    return model"
   ]
  },
  {
   "cell_type": "code",
   "execution_count": null,
   "metadata": {},
   "outputs": [],
   "source": [
    "def define_and_compile_model():\n",
    "    inputs = tf.keras.layers.Input(shape=(224,224,3))\n",
    "    model = final_model(inputs)\n",
    "    \n",
    "    model.compile(optimizer = tf.keras.optimizers.SGD(momentum=0.9),\n",
    "                  loss = 'mse',\n",
    "                  metrics='acc')\n",
    "    return model"
   ]
  },
  {
   "cell_type": "code",
   "execution_count": null,
   "metadata": {},
   "outputs": [],
   "source": [
    "model = define_and_compile_model()\n",
    "model.summary()"
   ]
  }
 ],
 "metadata": {
  "kernelspec": {
   "display_name": "Python 3",
   "language": "python",
   "name": "python3"
  },
  "language_info": {
   "name": "python",
   "version": "3.10.8 (tags/v3.10.8:aaaf517, Oct 11 2022, 16:50:30) [MSC v.1933 64 bit (AMD64)]"
  },
  "orig_nbformat": 4,
  "vscode": {
   "interpreter": {
    "hash": "f37c7df8cdb555b3562617cf54c9641aad3b562407c855ae8c8ffa3da6e1d4f6"
   }
  }
 },
 "nbformat": 4,
 "nbformat_minor": 2
}
