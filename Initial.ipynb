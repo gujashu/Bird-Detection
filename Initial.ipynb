import os, re, time, json
import PIL.Image, PIL.ImageFont, PIL.ImageDraw
import numpy as np
import tensorflow as tf
from matplotlib import pyplot as plt
import tensorflow_datasets as tfds
import cv2
data_dir = 'TF3 C3 W1 Data'
