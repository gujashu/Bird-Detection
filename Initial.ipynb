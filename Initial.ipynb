{
 "cells": [
  {
   "attachments": {},
   "cell_type": "markdown",
   "metadata": {},
   "source": [
    "Imports"
   ]
  },
  {
   "cell_type": "code",
   "execution_count": null,
   "metadata": {},
   "outputs": [],
   "source": [
    "import os, re, time, json\n",
    "import PIL.Image, PIL.ImageFont, PIL.ImageDraw\n",
    "import numpy as np\n",
    "import tensorflow as tf\n",
    "from matplotlib import pyplot as plt\n",
    "import tensorflow_datasets as tfds\n",
    "import cv2\n",
    "data_dir = 'TF3 C3 W1 Data'\n"
   ]
  },
  {
   "cell_type": "markdown",
   "metadata": {},
   "source": [
    "Visualization of Images"
   ]
  },
  {
   "cell_type": "code",
   "execution_count": null,
   "metadata": {},
   "outputs": [],
   "source": [
    "def draw_bounding_box_on_image(image, ymin, xmin, ymax, xmax, color=(255,0,0), thickness=5):\n",
    "    image_width = image.shape[1]\n",
    "    image_height = image.shape[0]\n",
    "    cv2.rectangle(image, (int(xmin), int(ymin), int(xmax), int(ymax)), color, thickness)\n",
    "    \n",
    "def draw_bounding_boxes_on_image(image, boxes, color=[], thickness=5):\n",
    "    boxes_shape = boxes.shape\n",
    "    for i in range(boxes_shape[0]):\n",
    "        draw_bounding_box_on_image(image, boxes[i,1], boxes[i,0], boxes[i,3], boxes[i,2], color[i], thickness)\n",
    "        \n",
    "def draw_bounding_boxes_on_image_array(image, boxes, color=[], thickness=5):\n",
    "    draw_bounding_boxes_on_image(image,boxes,color, thickness)\n",
    "    \n",
    "    return image\n"
   ]
  },
  {
   "attachments": {},
   "cell_type": "markdown",
   "metadata": {},
   "source": [
    "Data and visualization"
   ]
  },
  {
   "cell_type": "code",
   "execution_count": null,
   "metadata": {},
   "outputs": [],
   "source": [
    "plt.rc('image', cmap='gray')\n",
    "plt.rc('grid', linewidth=0)\n",
    "plt.rc('xtick', top=False, bottom = False, labelsize = 'large')\n",
    "plt.rc('ytick', left=False, right=False, labelsize = 'large')\n",
    "plt.rc('axes', facecolor='F8F8F8', titlesize=\"large\", edgecolor='white')\n",
    "plt.rc('text', color='a8151a')\n",
    "plt.rc('figure', facecolor='F0F0F0')"
   ]
  },
  {
   "cell_type": "code",
   "execution_count": null,
   "metadata": {},
   "outputs": [],
   "source": [
    "MATPLOTLIB_FONT_DIR = os.path.join(os.path.dirname(plt.__file__), \"mpl-data/fonts/ttf\") # doubt in this line\n",
    "\n",
    "def display_digits_with_boxes(images,pred_bboxes, bboxes, iou, title, bboxes_normalized=False):\n",
    "    n = len(images)\n",
    "    \n",
    "    fig = plt.figure(figsize=(20,4))\n",
    "    plt.title(title)\n",
    "    plt.yticks([])\n",
    "    plt.xticks([])\n",
    "    \n",
    "    for i in range(n):\n",
    "      ax = fig.add_subplot(1, 10, i+1)\n",
    "      bboxes_to_plot = []\n",
    "      if (len(pred_bboxes) > i):\n",
    "        bbox = pred_bboxes[i]\n",
    "        bbox = [bbox[0] * images[i].shape[1], bbox[1] * images[i].shape[0], bbox[2] * images[i].shape[1], bbox[3] * images[i].shape[0]]\n",
    "        bboxes_to_plot.append(bbox)\n",
    "    \n",
    "      if (len(bboxes) > i):\n",
    "        bbox = bboxes[i]\n",
    "        if bboxes_normalized == True:\n",
    "          bbox = [bbox[0] * images[i].shape[1],bbox[1] * images[i].shape[0], bbox[2] * images[i].shape[1], bbox[3] * images[i].shape[0] ]\n",
    "        bboxes_to_plot.append(bbox)\n",
    "\n",
    "      img_to_draw = draw_bounding_boxes_on_image_array(image=images[i], boxes=np.asarray(bboxes_to_plot), color=[(255,0,0), (0, 255, 0)])\n",
    "      plt.xticks([])\n",
    "      plt.yticks([])\n",
    "    \n",
    "      plt.imshow(img_to_draw)\n",
    "      \n",
    "      if len(iou) > i :\n",
    "        color = \"black\"\n",
    "        if (iou[i][0] < iou_threshold):\n",
    "          color = \"red\"\n",
    "        ax.text(0.2, -0.3, \"iou: %s\" %(iou[i][0]), color=color, transform=ax.transAxes)\n",
    "        \n",
    "def plot_metrics(metric_name, title, ylim=5):\n",
    "    plt.title(title)\n",
    "    plt.ylim(0,ylim)\n",
    "    plt.plot(history.history[metric_name],color='blue', label=metric_name)\n",
    "    plt.plot(history.history['val_' + metric_name], color='green', label='val_'+metric_name)"
   ]
  },
  {
   "attachments": {},
   "cell_type": "markdown",
   "metadata": {},
   "source": [
    "Pre-Processing of Images"
   ]
  },
  {
   "cell_type": "code",
   "execution_count": null,
   "metadata": {},
   "outputs": [],
   "source": [
    "def read_image_tfds(image, bbox):\n",
    "    image = tf.cast(image, tf.float32)\n",
    "    shape = tf.shape(image)\n",
    "\n",
    "    factor_x = tf.cast(shape[1], tf.float32)\n",
    "    factor_y = tf.cast(shape[0], tf.float32)\n",
    "\n",
    "    image = tf.image.resize(image, (224, 224,))\n",
    "\n",
    "    image = image/127.5\n",
    "    image -= 1\n",
    "\n",
    "    bbox_list = [bbox[0] / factor_x , \n",
    "                 bbox[1] / factor_y, \n",
    "                 bbox[2] / factor_x , \n",
    "                 bbox[3] / factor_y]\n",
    "    \n",
    "    return image, bbox_list"
   ]
  },
  {
   "cell_type": "code",
   "execution_count": null,
   "metadata": {},
   "outputs": [],
   "source": [
    "def read_image_with_shape(image,bbox):\n",
    "    original_image = image\n",
    "    image, bbox_list = read_image_tfds(image, bbox)\n",
    "    \n",
    "    return original_image, image, bbox_list"
   ]
  },
  {
   "cell_type": "code",
   "execution_count": null,
   "metadata": {},
   "outputs": [],
   "source": [
    "def read_image_tfds_with_original_bbox(data):\n",
    "    image = data[\"image\"]\n",
    "    bbox = data[\"bbox\"]\n",
    "    \n",
    "    shape = tf.shape(image)\n",
    "    factor_x = tf.cast(shape[1], tf.float32)\n",
    "    factor_y = tf.cast(shape[0], tf.float32)\n",
    "    \n",
    "    bbox_list = [bbox[1] * factor_x,\n",
    "                 bbox[0] * factor_y,\n",
    "                 bbox[3] * factor_x,\n",
    "                 bbox[2] * factor_y]\n",
    "    return image, bbox_list"
   ]
  },
  {
   "cell_type": "code",
   "execution_count": null,
   "metadata": {},
   "outputs": [],
   "source": [
    "def dataset_to_numpy_util(dataset, batch_size=0, N=0):\n",
    "    take_dataset = dataset.shuffle(1024)\n",
    "    \n",
    "    if batch_size > 0:\n",
    "        take_dataset = take_dataset.batch(batch_size)\n",
    "    if N > 0:\n",
    "        take_dataset = take_dataset.take(N)\n",
    "    \n",
    "    if tf.executing_eagerly():\n",
    "        ds_images, ds_boxes = [], []\n",
    "        for images, bboxes in take_dataset:\n",
    "            ds_images.append(images.numpy())\n",
    "            ds_boxes.append(bboxes.numpy())\n",
    "    \n",
    "    return (np.array(ds_images), np.array(ds_boxes))"
   ]
  },
  {
   "cell_type": "code",
   "execution_count": null,
   "metadata": {},
   "outputs": [],
   "source": [
    "def dataset_to_numpy_with_original_bboxes_util(dataset, batch_size=0, N=0):\n",
    "    normalized_dataset = dataset.map(read_image_with_shape)\n",
    "    if batch_size > 0:\n",
    "        normalized_dataset = normalized_dataset.batch(batch_size)\n",
    "        \n",
    "    if N>0:\n",
    "        normalized_dataset = normalized_dataset.take(N)\n",
    "        \n",
    "    if tf.executing_eagerly():\n",
    "        ds_original_images, ds_images, ds_bboxes = [], [], []\n",
    "    for original_images, images, bboxes in normalized_dataset:\n",
    "        ds_original_images.append(original_images.numpy())\n",
    "        ds_images.append(images.numpy())\n",
    "        ds_bboxes.append(bboxes.numpy())\n",
    "        \n",
    "    return (np.array(ds_original_images), np.array(ds_images), np.array(ds_bboxes))"
   ]
  },
  {
   "cell_type": "code",
   "execution_count": null,
   "metadata": {},
   "outputs": [],
   "source": [
    "def get_visualization_training_dataset():\n",
    "    dataset , info = tfds.load(\"caltech_birds2010\", split=\"train\", with_info=True, data_dir=data_dir, download=False)\n",
    "    visualization_training_dataset = dataset.map(read_image_tfds_with_original_bbox, num_parallel_calls=16)\n",
    "    \n",
    "    return visualization_training_dataset\n",
    "\n",
    "visualization_training_dataset = get_visualization_training_dataset()"
   ]
  },
  {
   "cell_type": "code",
   "execution_count": null,
   "metadata": {},
   "outputs": [],
   "source": [
    "(visualization_training_images, visualization_training_bboxes) = dataset_to_numpy_util(visualization_training_dataset, N=10)\n",
    "display_digits_with_boxes(np.array(visualization_training_images), np.array([]),np.array(visualization_training_bboxes), np.array([]), \"training images and their bboxes\")"
   ]
  }
 ],
 "metadata": {
  "kernelspec": {
   "display_name": "Python 3",
   "language": "python",
   "name": "python3"
  },
  "language_info": {
   "name": "python",
   "version": "3.10.8 (tags/v3.10.8:aaaf517, Oct 11 2022, 16:50:30) [MSC v.1933 64 bit (AMD64)]"
  },
  "orig_nbformat": 4,
  "vscode": {
   "interpreter": {
    "hash": "f37c7df8cdb555b3562617cf54c9641aad3b562407c855ae8c8ffa3da6e1d4f6"
   }
  }
 },
 "nbformat": 4,
 "nbformat_minor": 2
}
